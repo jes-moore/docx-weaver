{
 "cells": [
  {
   "cell_type": "code",
   "execution_count": null,
   "metadata": {},
   "outputs": [],
   "source": [
    "%load_ext autoreload\n",
    "%autoreload 2\n",
    "\n",
    "import logging\n",
    "from weaver.weaver import WordWeaver\n",
    "\n",
    "# Setup Logging\n",
    "logging.basicConfig(\n",
    "    level=logging.INFO,\n",
    "    filename=None,\n",
    "    format='%(asctime)s - %(name)s - %(levelname)s - %(message)s')\n",
    "log = logging.getLogger(__name__)"
   ]
  },
  {
   "cell_type": "code",
   "execution_count": null,
   "metadata": {},
   "outputs": [],
   "source": [
    "# Comment Only Test\n",
    "doc = WordWeaver(\n",
    "    filename=\"fake-consulting-doc.docx\",\n",
    "    purpose=\"You are reviewing a consulting agreement, from the perspective of the consultant.\",\n",
    "    paragraph_prompt=\"Review this and highlight any issues or concerns.\",\n",
    "    table_prompt=None,\n",
    "    mode=\"comments_only\",\n",
    ")\n",
    "weave_result = doc.weave_document(output_fn=\"fake-consulting-doc-review.docx\")"
   ]
  },
  {
   "cell_type": "code",
   "execution_count": null,
   "metadata": {},
   "outputs": [],
   "source": [
    "# Transform  Only Test\n",
    "doc = WordWeaver(\n",
    "    filename=\"fake-consulting-doc.docx\",\n",
    "    purpose=\"You are converting a consulting document into one that rhymes.\",\n",
    "    paragraph_prompt=\"Convert the following paragraph into a rhyming version.\",\n",
    "    table_prompt=None,\n",
    "    mode=\"transform_only\",\n",
    ")\n",
    "weave_result = doc.weave_document(output_fn=\"fake-consulting-doc-transform.docx\")"
   ]
  },
  {
   "cell_type": "code",
   "execution_count": null,
   "metadata": {},
   "outputs": [],
   "source": [
    "# Transform And Comments Test\n",
    "doc = WordWeaver(\n",
    "    filename=\"fake-consulting-doc.docx\",\n",
    "    purpose=\"You are translating a consulting document into french.\",\n",
    "    paragraph_prompt=\"Convert the following paragraph into french.\",\n",
    "    table_prompt=\"Convert the following table cell into french\",\n",
    "    mode=\"transform_and_comments\",\n",
    ")\n",
    "weave_result = doc.weave_document(output_fn=\"fake-consulting-doc-transform-comments.docx\")"
   ]
  }
 ],
 "metadata": {
  "kernelspec": {
   "display_name": "Python 3",
   "language": "python",
   "name": "python3"
  },
  "language_info": {
   "codemirror_mode": {
    "name": "ipython",
    "version": 3
   },
   "file_extension": ".py",
   "mimetype": "text/x-python",
   "name": "python",
   "nbconvert_exporter": "python",
   "pygments_lexer": "ipython3",
   "version": "3.11.9"
  }
 },
 "nbformat": 4,
 "nbformat_minor": 2
}
